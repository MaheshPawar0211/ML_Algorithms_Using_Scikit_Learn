{
 "cells": [
  {
   "cell_type": "code",
   "execution_count": 8,
   "metadata": {},
   "outputs": [],
   "source": [
    "import os\n",
    "import matplotlib.pyplot as plt\n",
    "import pandas as pd\n",
    "import numpy as np\n",
    "from sklearn.model_selection import train_test_split #for data splitting\n",
    "from sklearn import tree\n",
    "from sklearn.ensemble import RandomForestClassifier\n",
    "from sklearn import model_selection\n",
    "from scipy import stats\n",
    "from sklearn.metrics import confusion_matrix #for model evaluation\n",
    "from sklearn.metrics import accuracy_score\n",
    "from pdpbox import pdp, get_dataset, info_plots\n",
    "from sklearn.tree import export_graphviz #plot tree\n",
    "import eli5\n",
    "from eli5.sklearn import PermutationImportance\n",
    "import graphviz\n",
    "os.environ[\"PATH\"] += os.pathsep + 'C:\\\\Program Files (x86)\\\\Graphviz2.38\\\\bin'"
   ]
  },
  {
   "cell_type": "code",
   "execution_count": 2,
   "metadata": {},
   "outputs": [
    {
     "name": "stdout",
     "output_type": "stream",
     "text": [
      "['age', 'sex', 'chest_pain_type', 'resting_bp', 'cholesterol', 'fasting_bld_sugar', 'rest_ecg', 'max_hrtrte_ach', 'exer_indc_angina', 'st_depression', 'st_slope', 'no_mjr_vssels', 'thalassemia', 'target']\n"
     ]
    }
   ],
   "source": [
    "url='http://archive.ics.uci.edu/ml/machine-learning-databases/heart-disease/processed.cleveland.data'\n",
    "df = pd.read_csv(url,sep= ',', header = None)\n",
    "columns_name = ['age', 'sex', 'chest_pain_type', 'resting_bp', 'cholesterol', 'fasting_bld_sugar', 'rest_ecg', 'max_hrtrte_ach'\n",
    "              ,'exer_indc_angina', 'st_depression', 'st_slope','no_mjr_vssels', 'thalassemia', 'target']\n",
    "df.columns=columns_name\n",
    "df['target'] = df.target.map({0: 0, 1: 1, 2: 1, 3: 1, 4: 1})\n",
    "df = df.replace({'?':np.NaN})\n",
    "df.dropna(inplace=True)\n",
    "X_train, X_test, y_train, y_test = train_test_split(df.drop('target', 1), df['target'], test_size = .2, random_state=10) #split the data\n",
    "feature_names = [i for i in X_train.columns]\n",
    "print(columns_name)\n",
    "columns_name.remove('target')\n",
    "X=df[columns_name]"
   ]
  },
  {
   "cell_type": "code",
   "execution_count": 10,
   "metadata": {},
   "outputs": [],
   "source": [
    "rf_model = RandomForestClassifier(random_state=1)\n",
    "rf_model.fit(X_train, y_train)\n",
    "\n",
    "rfc = RandomForestClassifier(n_estimators=100, random_state=100)"
   ]
  },
  {
   "cell_type": "markdown",
   "metadata": {},
   "source": [
    "### One of the parameters we will be tuning is max_features. Let's find out the maximum value this could take:how many features do we have in our dataset?"
   ]
  },
  {
   "cell_type": "code",
   "execution_count": 11,
   "metadata": {},
   "outputs": [
    {
     "name": "stdout",
     "output_type": "stream",
     "text": [
      "14\n"
     ]
    }
   ],
   "source": [
    "n_features = df.shape[1]\n",
    "print(n_features)"
   ]
  },
  {
   "cell_type": "markdown",
   "metadata": {},
   "source": [
    "### Set a discrete uniform distribution covering the range 1 to 14. Remember the probability mass function, P(X=x) = 1/n, for this distribution, so P(X=x) = 1/14 in our case. Because criterion has only two discrete options, this will also be sampled as a discrete uniform distribution with P(X=x) = ½:\n"
   ]
  },
  {
   "cell_type": "code",
   "execution_count": 12,
   "metadata": {},
   "outputs": [],
   "source": [
    "param_dist = {'criterion': ['gini', 'entropy'],'max_features': stats.randint(low=1, high=n_features)}"
   ]
  },
  {
   "cell_type": "code",
   "execution_count": 13,
   "metadata": {},
   "outputs": [],
   "source": [
    "# setting up the random search sampling 50 times and conducting 5-fold cross-validation\n",
    "rscv = model_selection.RandomizedSearchCV(estimator=rfc, param_distributions=param_dist, n_iter=50, cv=5, scoring='accuracy' , random_state=100)"
   ]
  },
  {
   "cell_type": "code",
   "execution_count": 14,
   "metadata": {},
   "outputs": [
    {
     "data": {
      "text/plain": [
       "RandomizedSearchCV(cv=5, error_score=nan,\n",
       "                   estimator=RandomForestClassifier(bootstrap=True,\n",
       "                                                    ccp_alpha=0.0,\n",
       "                                                    class_weight=None,\n",
       "                                                    criterion='gini',\n",
       "                                                    max_depth=None,\n",
       "                                                    max_features='auto',\n",
       "                                                    max_leaf_nodes=None,\n",
       "                                                    max_samples=None,\n",
       "                                                    min_impurity_decrease=0.0,\n",
       "                                                    min_impurity_split=None,\n",
       "                                                    min_samples_leaf=1,\n",
       "                                                    min_samples_split=2,\n",
       "                                                    min_weight_fraction_leaf=0.0,\n",
       "                                                    n_estimators=100,\n",
       "                                                    n_jobs=None,\n",
       "                                                    oob_score=False,\n",
       "                                                    random_state=100, verbose=0,\n",
       "                                                    warm_start=False),\n",
       "                   iid='deprecated', n_iter=50, n_jobs=None,\n",
       "                   param_distributions={'criterion': ['gini', 'entropy'],\n",
       "                                        'max_features': <scipy.stats._distn_infrastructure.rv_frozen object at 0x000001239F8B0788>},\n",
       "                   pre_dispatch='2*n_jobs', random_state=100, refit=True,\n",
       "                   return_train_score=False, scoring='accuracy', verbose=0)"
      ]
     },
     "execution_count": 14,
     "metadata": {},
     "output_type": "execute_result"
    }
   ],
   "source": [
    "# start the process\n",
    "\n",
    "rscv.fit(X_train,y_train)"
   ]
  },
  {
   "cell_type": "markdown",
   "metadata": {},
   "source": [
    "### Create a pandas DataFrame from the results attribute, order by the rank_test_score, and look at the top five model hyperparameterizations. Note that because the random search draws samples of hyperparameterizations at random, it is possible to have duplication. We remove the duplicate entries from the DataFrame:"
   ]
  },
  {
   "cell_type": "code",
   "execution_count": 15,
   "metadata": {},
   "outputs": [
    {
     "data": {
      "text/html": [
       "<div>\n",
       "<style scoped>\n",
       "    .dataframe tbody tr th:only-of-type {\n",
       "        vertical-align: middle;\n",
       "    }\n",
       "\n",
       "    .dataframe tbody tr th {\n",
       "        vertical-align: top;\n",
       "    }\n",
       "\n",
       "    .dataframe thead th {\n",
       "        text-align: right;\n",
       "    }\n",
       "</style>\n",
       "<table border=\"1\" class=\"dataframe\">\n",
       "  <thead>\n",
       "    <tr style=\"text-align: right;\">\n",
       "      <th></th>\n",
       "      <th>params</th>\n",
       "      <th>mean_test_score</th>\n",
       "    </tr>\n",
       "  </thead>\n",
       "  <tbody>\n",
       "    <tr>\n",
       "      <th>3</th>\n",
       "      <td>{'criterion': 'gini', 'max_features': 5}</td>\n",
       "      <td>0.831117</td>\n",
       "    </tr>\n",
       "    <tr>\n",
       "      <th>2</th>\n",
       "      <td>{'criterion': 'entropy', 'max_features': 1}</td>\n",
       "      <td>0.827305</td>\n",
       "    </tr>\n",
       "    <tr>\n",
       "      <th>11</th>\n",
       "      <td>{'criterion': 'entropy', 'max_features': 10}</td>\n",
       "      <td>0.823050</td>\n",
       "    </tr>\n",
       "    <tr>\n",
       "      <th>5</th>\n",
       "      <td>{'criterion': 'gini', 'max_features': 3}</td>\n",
       "      <td>0.822961</td>\n",
       "    </tr>\n",
       "    <tr>\n",
       "      <th>29</th>\n",
       "      <td>{'criterion': 'gini', 'max_features': 2}</td>\n",
       "      <td>0.822961</td>\n",
       "    </tr>\n",
       "  </tbody>\n",
       "</table>\n",
       "</div>"
      ],
      "text/plain": [
       "                                          params  mean_test_score\n",
       "3       {'criterion': 'gini', 'max_features': 5}         0.831117\n",
       "2    {'criterion': 'entropy', 'max_features': 1}         0.827305\n",
       "11  {'criterion': 'entropy', 'max_features': 10}         0.823050\n",
       "5       {'criterion': 'gini', 'max_features': 3}         0.822961\n",
       "29      {'criterion': 'gini', 'max_features': 2}         0.822961"
      ]
     },
     "execution_count": 15,
     "metadata": {},
     "output_type": "execute_result"
    }
   ],
   "source": [
    "results = pd.DataFrame(rscv.cv_results_)\n",
    "# removing duplication\n",
    "distinct_results = results.loc[:,['params','mean_test_score']]\n",
    "# convert the params dictionaries to string data types\n",
    "distinct_results.loc[:,'params'] = distinct_results.loc[:,'params'].astype('str')\n",
    "# remove duplicates\n",
    "distinct_results.drop_duplicates(inplace=True)\n",
    "# look at the top 5 best hyperparamaterizations\n",
    "distinct_results.sort_values('mean_test_score', ascending=False).head(5)"
   ]
  },
  {
   "cell_type": "code",
   "execution_count": 21,
   "metadata": {},
   "outputs": [
    {
     "data": {
      "text/plain": [
       "<matplotlib.axes._subplots.AxesSubplot at 0x123a0425908>"
      ]
     },
     "execution_count": 21,
     "metadata": {},
     "output_type": "execute_result"
    },
    {
     "data": {
      "image/png": "[encoded data removed]",
      "text/plain": [
       "<Figure size 432x288 with 1 Axes>"
      ]
     },
     "metadata": {
      "needs_background": "light"
     },
     "output_type": "display_data"
    }
   ],
   "source": [
    "# top performing models\n",
    "distinct_results[distinct_results.mean_test_score > 0.78].sort_values('mean_test_score').plot.barh(x='params', xlim=(0.7))"
   ]
  },
  {
   "cell_type": "code",
   "execution_count": 22,
   "metadata": {},
   "outputs": [],
   "source": [
    "param_dist = {'criterion': ['gini', 'entropy'],'max_features': stats.randint(low=1, high=n_features),'max_depth':[1,3,5,7]}"
   ]
  },
  {
   "cell_type": "code",
   "execution_count": 23,
   "metadata": {},
   "outputs": [
    {
     "data": {
      "text/html": [
       "<div>\n",
       "<style scoped>\n",
       "    .dataframe tbody tr th:only-of-type {\n",
       "        vertical-align: middle;\n",
       "    }\n",
       "\n",
       "    .dataframe tbody tr th {\n",
       "        vertical-align: top;\n",
       "    }\n",
       "\n",
       "    .dataframe thead th {\n",
       "        text-align: right;\n",
       "    }\n",
       "</style>\n",
       "<table border=\"1\" class=\"dataframe\">\n",
       "  <thead>\n",
       "    <tr style=\"text-align: right;\">\n",
       "      <th></th>\n",
       "      <th>params</th>\n",
       "      <th>mean_test_score</th>\n",
       "    </tr>\n",
       "  </thead>\n",
       "  <tbody>\n",
       "    <tr>\n",
       "      <th>38</th>\n",
       "      <td>{'criterion': 'gini', 'max_depth': 1, 'max_fea...</td>\n",
       "      <td>0.848316</td>\n",
       "    </tr>\n",
       "    <tr>\n",
       "      <th>4</th>\n",
       "      <td>{'criterion': 'gini', 'max_depth': 5, 'max_fea...</td>\n",
       "      <td>0.840071</td>\n",
       "    </tr>\n",
       "    <tr>\n",
       "      <th>3</th>\n",
       "      <td>{'criterion': 'gini', 'max_depth': 3, 'max_fea...</td>\n",
       "      <td>0.839805</td>\n",
       "    </tr>\n",
       "    <tr>\n",
       "      <th>11</th>\n",
       "      <td>{'criterion': 'entropy', 'max_depth': 3, 'max_...</td>\n",
       "      <td>0.835727</td>\n",
       "    </tr>\n",
       "    <tr>\n",
       "      <th>0</th>\n",
       "      <td>{'criterion': 'gini', 'max_depth': 1, 'max_fea...</td>\n",
       "      <td>0.831649</td>\n",
       "    </tr>\n",
       "  </tbody>\n",
       "</table>\n",
       "</div>"
      ],
      "text/plain": [
       "                                               params  mean_test_score\n",
       "38  {'criterion': 'gini', 'max_depth': 1, 'max_fea...         0.848316\n",
       "4   {'criterion': 'gini', 'max_depth': 5, 'max_fea...         0.840071\n",
       "3   {'criterion': 'gini', 'max_depth': 3, 'max_fea...         0.839805\n",
       "11  {'criterion': 'entropy', 'max_depth': 3, 'max_...         0.835727\n",
       "0   {'criterion': 'gini', 'max_depth': 1, 'max_fea...         0.831649"
      ]
     },
     "execution_count": 23,
     "metadata": {},
     "output_type": "execute_result"
    }
   ],
   "source": [
    "# setting up the random search sampling 50 times and conducting 5-fold cross-validation\n",
    "rscv = model_selection.RandomizedSearchCV(estimator=rfc, param_distributions=param_dist, n_iter=50, cv=5, scoring='accuracy' , random_state=100)\n",
    "# start the process\n",
    "rscv.fit(X_train,y_train)\n",
    "results = pd.DataFrame(rscv.cv_results_)\n",
    "# removing duplication\n",
    "distinct_results = results.loc[:,['params','mean_test_score']]\n",
    "# convert the params dictionaries to string data types\n",
    "distinct_results.loc[:,'params'] = distinct_results.loc[:,'params'].astype('str')\n",
    "# remove duplicates\n",
    "distinct_results.drop_duplicates(inplace=True)\n",
    "# look at the top 5 best hyperparamaterizations\n",
    "distinct_results.sort_values('mean_test_score', ascending=False).head(5)"
   ]
  },
  {
   "cell_type": "code",
   "execution_count": 27,
   "metadata": {},
   "outputs": [
    {
     "data": {
      "text/plain": [
       "<matplotlib.axes._subplots.AxesSubplot at 0x123a1882808>"
      ]
     },
     "execution_count": 27,
     "metadata": {},
     "output_type": "execute_result"
    },
    {
     "data": {
      "image/png": "[encoded data removed]",
      "text/plain": [
       "<Figure size 432x288 with 1 Axes>"
      ]
     },
     "metadata": {
      "needs_background": "light"
     },
     "output_type": "display_data"
    }
   ],
   "source": [
    "# top performing models\n",
    "distinct_results[distinct_results.mean_test_score > 0.83].sort_values('mean_test_score').plot.barh(x='params', xlim=(0.8))"
   ]
  },
  {
   "cell_type": "code",
   "execution_count": null,
   "metadata": {},
   "outputs": [],
   "source": []
  }
 ],
 "metadata": {
  "kernelspec": {
   "display_name": "Python 3",
   "language": "python",
   "name": "python3"
  },
  "language_info": {
   "codemirror_mode": {
    "name": "ipython",
    "version": 3
   },
   "file_extension": ".py",
   "mimetype": "text/x-python",
   "name": "python",
   "nbconvert_exporter": "python",
   "pygments_lexer": "ipython3",
   "version": "3.7.6"
  }
 },
 "nbformat": 4,
 "nbformat_minor": 4
}
